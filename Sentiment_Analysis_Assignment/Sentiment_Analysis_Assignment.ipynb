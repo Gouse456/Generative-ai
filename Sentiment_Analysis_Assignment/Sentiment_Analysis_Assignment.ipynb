{
  "cells": [
    {
      "cell_type": "markdown",
      "metadata": {
        "id": "hgSOsxP88TN1"
      },
      "source": [
        "# Sentiment Analysis Project\n"
      ]
    },
    {
      "cell_type": "markdown",
      "metadata": {
        "id": "9YJoKI0w8TN3"
      },
      "source": [
        "## Load the Data"
      ]
    },
    {
      "cell_type": "code",
      "source": [
        "import pandas as pd\n",
        "import numpy as np"
      ],
      "metadata": {
        "id": "3RkufQO1IDnn"
      },
      "execution_count": 2,
      "outputs": []
    },
    {
      "cell_type": "code",
      "execution_count": 3,
      "metadata": {
        "id": "xgqk-gum8TN4",
        "outputId": "a1bfad6c-7c5e-4d62-b2aa-986c3af592f0",
        "colab": {
          "base_uri": "https://localhost:8080/"
        }
      },
      "outputs": [
        {
          "output_type": "stream",
          "name": "stdout",
          "text": [
            "  label                                             review\n",
            "0   neg  how do films like mouse hunt get into theatres...\n",
            "1   neg  some talented actresses are blessed with a dem...\n",
            "2   pos  this has been an extraordinary year for austra...\n",
            "3   pos  according to hollywood movies made in last few...\n",
            "4   neg  my first press screening of 1998 and already i...\n"
          ]
        }
      ],
      "source": [
        "df = pd.read_csv(\"/content/moviereviews.tsv\", sep=\"\\t\")\n",
        "\n",
        "# Show first 5 rows\n",
        "print(df.head())"
      ]
    },
    {
      "cell_type": "code",
      "source": [
        "df.shape"
      ],
      "metadata": {
        "colab": {
          "base_uri": "https://localhost:8080/"
        },
        "id": "YCMfPyYCIx_b",
        "outputId": "08b0baf3-58ca-4820-dead-7fac9060f65e"
      },
      "execution_count": 4,
      "outputs": [
        {
          "output_type": "execute_result",
          "data": {
            "text/plain": [
              "(2000, 2)"
            ]
          },
          "metadata": {},
          "execution_count": 4
        }
      ]
    },
    {
      "cell_type": "markdown",
      "metadata": {
        "id": "XRVV8nen8TN4"
      },
      "source": [
        "## Remove Blank Records (optional)"
      ]
    },
    {
      "cell_type": "code",
      "execution_count": 5,
      "metadata": {
        "id": "YKiIZR4J8TN5",
        "colab": {
          "base_uri": "https://localhost:8080/"
        },
        "outputId": "5316d72b-43ed-4dd7-8ddc-85b1e758165f"
      },
      "outputs": [
        {
          "output_type": "stream",
          "name": "stdout",
          "text": [
            "(1938, 2)\n"
          ]
        }
      ],
      "source": [
        "# Remove rows where 'review' is NaN (missing)\n",
        "df = df.dropna(subset=[\"review\"])\n",
        "\n",
        "# Remove rows where 'review' is just empty string or spaces\n",
        "df = df[df[\"review\"].str.strip() != \"\"]\n",
        "\n",
        "print(df.shape)   # Check new number of rows"
      ]
    },
    {
      "cell_type": "code",
      "source": [
        "print(df.head())  # Preview cleaned data"
      ],
      "metadata": {
        "colab": {
          "base_uri": "https://localhost:8080/"
        },
        "id": "oUaetxLhJCQZ",
        "outputId": "c8f03d54-fe0a-461d-c273-1082b9e23471"
      },
      "execution_count": 6,
      "outputs": [
        {
          "output_type": "stream",
          "name": "stdout",
          "text": [
            "  label                                             review\n",
            "0   neg  how do films like mouse hunt get into theatres...\n",
            "1   neg  some talented actresses are blessed with a dem...\n",
            "2   pos  this has been an extraordinary year for austra...\n",
            "3   pos  according to hollywood movies made in last few...\n",
            "4   neg  my first press screening of 1998 and already i...\n"
          ]
        }
      ]
    },
    {
      "cell_type": "markdown",
      "metadata": {
        "id": "r5ddhtmo8TN5"
      },
      "source": [
        "## Import `SentimentIntensityAnalyzer` and create an sid object\n",
        "This assumes that the VADER lexicon has been downloaded."
      ]
    },
    {
      "cell_type": "code",
      "source": [
        "import nltk\n",
        "nltk.download('vader_lexicon')"
      ],
      "metadata": {
        "colab": {
          "base_uri": "https://localhost:8080/"
        },
        "id": "6aUTZYFnJRGk",
        "outputId": "758b2e49-25c0-4a52-e297-054680ddb512"
      },
      "execution_count": 7,
      "outputs": [
        {
          "output_type": "stream",
          "name": "stderr",
          "text": [
            "[nltk_data] Downloading package vader_lexicon to /root/nltk_data...\n"
          ]
        },
        {
          "output_type": "execute_result",
          "data": {
            "text/plain": [
              "True"
            ]
          },
          "metadata": {},
          "execution_count": 7
        }
      ]
    },
    {
      "cell_type": "code",
      "execution_count": 8,
      "metadata": {
        "id": "f-56IzTG8TN5"
      },
      "outputs": [],
      "source": [
        "from nltk.sentiment import SentimentIntensityAnalyzer\n",
        "\n",
        "# Initialize\n",
        "sid = SentimentIntensityAnalyzer()"
      ]
    },
    {
      "cell_type": "markdown",
      "metadata": {
        "id": "ccAwsgHF8TN6"
      },
      "source": [
        "## Use sid to append a `comp_score` to the dataset"
      ]
    },
    {
      "cell_type": "code",
      "source": [
        "df['review'][0]"
      ],
      "metadata": {
        "colab": {
          "base_uri": "https://localhost:8080/",
          "height": 109
        },
        "id": "Kohf9FrmKdct",
        "outputId": "c8da94fe-da67-49b8-ab79-999f47713155"
      },
      "execution_count": 49,
      "outputs": [
        {
          "output_type": "execute_result",
          "data": {
            "text/plain": [
              "'how do films like mouse hunt get into theatres ? \\r\\nisn\\'t there a law or something ? \\r\\nthis diabolical load of claptrap from steven speilberg\\'s dreamworks studio is hollywood family fare at its deadly worst . \\r\\nmouse hunt takes the bare threads of a plot and tries to prop it up with overacting and flat-out stupid slapstick that makes comedies like jingle all the way look decent by comparison . \\r\\nwriter adam rifkin and director gore verbinski are the names chiefly responsible for this swill . \\r\\nthe plot , for what its worth , concerns two brothers ( nathan lane and an appalling lee evens ) who inherit a poorly run string factory and a seemingly worthless house from their eccentric father . \\r\\ndeciding to check out the long-abandoned house , they soon learn that it\\'s worth a fortune and set about selling it in auction to the highest bidder . \\r\\nbut battling them at every turn is a very smart mouse , happy with his run-down little abode and wanting it to stay that way . \\r\\nthe story alternates between unfunny scenes of the brothers bickering over what to do with their inheritance and endless action sequences as the two take on their increasingly determined furry foe . \\r\\nwhatever promise the film starts with soon deteriorates into boring dialogue , terrible overacting , and increasingly uninspired slapstick that becomes all sound and fury , signifying nothing . \\r\\nthe script becomes so unspeakably bad that the best line poor lee evens can utter after another run in with the rodent is : \" i hate that mouse \" . \\r\\noh cringe ! \\r\\nthis is home alone all over again , and ten times worse . \\r\\none touching scene early on is worth mentioning . \\r\\nwe follow the mouse through a maze of walls and pipes until he arrives at his makeshift abode somewhere in a wall . \\r\\nhe jumps into a tiny bed , pulls up a makeshift sheet and snuggles up to sleep , seemingly happy and just wanting to be left alone . \\r\\nit\\'s a magical little moment in an otherwise soulless film . \\r\\na message to speilberg : if you want dreamworks to be associated with some kind of artistic credibility , then either give all concerned in mouse hunt a swift kick up the arse or hire yourself some decent writers and directors . \\r\\nthis kind of rubbish will just not do at all . \\r\\n'"
            ],
            "application/vnd.google.colaboratory.intrinsic+json": {
              "type": "string"
            }
          },
          "metadata": {},
          "execution_count": 49
        }
      ]
    },
    {
      "cell_type": "code",
      "execution_count": 50,
      "metadata": {
        "id": "dhIrcvcn8TN6",
        "colab": {
          "base_uri": "https://localhost:8080/"
        },
        "outputId": "ef1c9e80-45c2-4f43-9dff-6df445d6305a"
      },
      "outputs": [
        {
          "output_type": "execute_result",
          "data": {
            "text/plain": [
              "{'neg': 0.121, 'neu': 0.778, 'pos': 0.101, 'compound': -0.9125}"
            ]
          },
          "metadata": {},
          "execution_count": 50
        }
      ],
      "source": [
        "sid.polarity_scores(df['review'][0])"
      ]
    },
    {
      "cell_type": "code",
      "source": [
        "df['scores'] = df['review'].apply(lambda review: sid.polarity_scores(review))"
      ],
      "metadata": {
        "id": "IKk5fbC1aV2Y"
      },
      "execution_count": 51,
      "outputs": []
    },
    {
      "cell_type": "code",
      "source": [
        "df.head()"
      ],
      "metadata": {
        "colab": {
          "base_uri": "https://localhost:8080/",
          "height": 206
        },
        "id": "OktiDjBmbUKR",
        "outputId": "586bc228-4179-46c9-8490-f7584e9cb384"
      },
      "execution_count": 52,
      "outputs": [
        {
          "output_type": "execute_result",
          "data": {
            "text/plain": [
              "  label                                             review  \\\n",
              "0   neg  how do films like mouse hunt get into theatres...   \n",
              "1   neg  some talented actresses are blessed with a dem...   \n",
              "2   pos  this has been an extraordinary year for austra...   \n",
              "3   pos  according to hollywood movies made in last few...   \n",
              "4   neg  my first press screening of 1998 and already i...   \n",
              "\n",
              "                                              scores  \n",
              "0  {'neg': 0.121, 'neu': 0.778, 'pos': 0.101, 'co...  \n",
              "1  {'neg': 0.12, 'neu': 0.775, 'pos': 0.105, 'com...  \n",
              "2  {'neg': 0.068, 'neu': 0.781, 'pos': 0.15, 'com...  \n",
              "3  {'neg': 0.071, 'neu': 0.782, 'pos': 0.147, 'co...  \n",
              "4  {'neg': 0.091, 'neu': 0.817, 'pos': 0.093, 'co...  "
            ],
            "text/html": [
              "\n",
              "  <div id=\"df-bd5bfa15-637f-4fc2-99a6-3af38f5136bd\" class=\"colab-df-container\">\n",
              "    <div>\n",
              "<style scoped>\n",
              "    .dataframe tbody tr th:only-of-type {\n",
              "        vertical-align: middle;\n",
              "    }\n",
              "\n",
              "    .dataframe tbody tr th {\n",
              "        vertical-align: top;\n",
              "    }\n",
              "\n",
              "    .dataframe thead th {\n",
              "        text-align: right;\n",
              "    }\n",
              "</style>\n",
              "<table border=\"1\" class=\"dataframe\">\n",
              "  <thead>\n",
              "    <tr style=\"text-align: right;\">\n",
              "      <th></th>\n",
              "      <th>label</th>\n",
              "      <th>review</th>\n",
              "      <th>scores</th>\n",
              "    </tr>\n",
              "  </thead>\n",
              "  <tbody>\n",
              "    <tr>\n",
              "      <th>0</th>\n",
              "      <td>neg</td>\n",
              "      <td>how do films like mouse hunt get into theatres...</td>\n",
              "      <td>{'neg': 0.121, 'neu': 0.778, 'pos': 0.101, 'co...</td>\n",
              "    </tr>\n",
              "    <tr>\n",
              "      <th>1</th>\n",
              "      <td>neg</td>\n",
              "      <td>some talented actresses are blessed with a dem...</td>\n",
              "      <td>{'neg': 0.12, 'neu': 0.775, 'pos': 0.105, 'com...</td>\n",
              "    </tr>\n",
              "    <tr>\n",
              "      <th>2</th>\n",
              "      <td>pos</td>\n",
              "      <td>this has been an extraordinary year for austra...</td>\n",
              "      <td>{'neg': 0.068, 'neu': 0.781, 'pos': 0.15, 'com...</td>\n",
              "    </tr>\n",
              "    <tr>\n",
              "      <th>3</th>\n",
              "      <td>pos</td>\n",
              "      <td>according to hollywood movies made in last few...</td>\n",
              "      <td>{'neg': 0.071, 'neu': 0.782, 'pos': 0.147, 'co...</td>\n",
              "    </tr>\n",
              "    <tr>\n",
              "      <th>4</th>\n",
              "      <td>neg</td>\n",
              "      <td>my first press screening of 1998 and already i...</td>\n",
              "      <td>{'neg': 0.091, 'neu': 0.817, 'pos': 0.093, 'co...</td>\n",
              "    </tr>\n",
              "  </tbody>\n",
              "</table>\n",
              "</div>\n",
              "    <div class=\"colab-df-buttons\">\n",
              "\n",
              "  <div class=\"colab-df-container\">\n",
              "    <button class=\"colab-df-convert\" onclick=\"convertToInteractive('df-bd5bfa15-637f-4fc2-99a6-3af38f5136bd')\"\n",
              "            title=\"Convert this dataframe to an interactive table.\"\n",
              "            style=\"display:none;\">\n",
              "\n",
              "  <svg xmlns=\"http://www.w3.org/2000/svg\" height=\"24px\" viewBox=\"0 -960 960 960\">\n",
              "    <path d=\"M120-120v-720h720v720H120Zm60-500h600v-160H180v160Zm220 220h160v-160H400v160Zm0 220h160v-160H400v160ZM180-400h160v-160H180v160Zm440 0h160v-160H620v160ZM180-180h160v-160H180v160Zm440 0h160v-160H620v160Z\"/>\n",
              "  </svg>\n",
              "    </button>\n",
              "\n",
              "  <style>\n",
              "    .colab-df-container {\n",
              "      display:flex;\n",
              "      gap: 12px;\n",
              "    }\n",
              "\n",
              "    .colab-df-convert {\n",
              "      background-color: #E8F0FE;\n",
              "      border: none;\n",
              "      border-radius: 50%;\n",
              "      cursor: pointer;\n",
              "      display: none;\n",
              "      fill: #1967D2;\n",
              "      height: 32px;\n",
              "      padding: 0 0 0 0;\n",
              "      width: 32px;\n",
              "    }\n",
              "\n",
              "    .colab-df-convert:hover {\n",
              "      background-color: #E2EBFA;\n",
              "      box-shadow: 0px 1px 2px rgba(60, 64, 67, 0.3), 0px 1px 3px 1px rgba(60, 64, 67, 0.15);\n",
              "      fill: #174EA6;\n",
              "    }\n",
              "\n",
              "    .colab-df-buttons div {\n",
              "      margin-bottom: 4px;\n",
              "    }\n",
              "\n",
              "    [theme=dark] .colab-df-convert {\n",
              "      background-color: #3B4455;\n",
              "      fill: #D2E3FC;\n",
              "    }\n",
              "\n",
              "    [theme=dark] .colab-df-convert:hover {\n",
              "      background-color: #434B5C;\n",
              "      box-shadow: 0px 1px 3px 1px rgba(0, 0, 0, 0.15);\n",
              "      filter: drop-shadow(0px 1px 2px rgba(0, 0, 0, 0.3));\n",
              "      fill: #FFFFFF;\n",
              "    }\n",
              "  </style>\n",
              "\n",
              "    <script>\n",
              "      const buttonEl =\n",
              "        document.querySelector('#df-bd5bfa15-637f-4fc2-99a6-3af38f5136bd button.colab-df-convert');\n",
              "      buttonEl.style.display =\n",
              "        google.colab.kernel.accessAllowed ? 'block' : 'none';\n",
              "\n",
              "      async function convertToInteractive(key) {\n",
              "        const element = document.querySelector('#df-bd5bfa15-637f-4fc2-99a6-3af38f5136bd');\n",
              "        const dataTable =\n",
              "          await google.colab.kernel.invokeFunction('convertToInteractive',\n",
              "                                                    [key], {});\n",
              "        if (!dataTable) return;\n",
              "\n",
              "        const docLinkHtml = 'Like what you see? Visit the ' +\n",
              "          '<a target=\"_blank\" href=https://colab.research.google.com/notebooks/data_table.ipynb>data table notebook</a>'\n",
              "          + ' to learn more about interactive tables.';\n",
              "        element.innerHTML = '';\n",
              "        dataTable['output_type'] = 'display_data';\n",
              "        await google.colab.output.renderOutput(dataTable, element);\n",
              "        const docLink = document.createElement('div');\n",
              "        docLink.innerHTML = docLinkHtml;\n",
              "        element.appendChild(docLink);\n",
              "      }\n",
              "    </script>\n",
              "  </div>\n",
              "\n",
              "\n",
              "    <div id=\"df-9ad6618f-cd38-4f00-af5b-c95f92d91b1f\">\n",
              "      <button class=\"colab-df-quickchart\" onclick=\"quickchart('df-9ad6618f-cd38-4f00-af5b-c95f92d91b1f')\"\n",
              "                title=\"Suggest charts\"\n",
              "                style=\"display:none;\">\n",
              "\n",
              "<svg xmlns=\"http://www.w3.org/2000/svg\" height=\"24px\"viewBox=\"0 0 24 24\"\n",
              "     width=\"24px\">\n",
              "    <g>\n",
              "        <path d=\"M19 3H5c-1.1 0-2 .9-2 2v14c0 1.1.9 2 2 2h14c1.1 0 2-.9 2-2V5c0-1.1-.9-2-2-2zM9 17H7v-7h2v7zm4 0h-2V7h2v10zm4 0h-2v-4h2v4z\"/>\n",
              "    </g>\n",
              "</svg>\n",
              "      </button>\n",
              "\n",
              "<style>\n",
              "  .colab-df-quickchart {\n",
              "      --bg-color: #E8F0FE;\n",
              "      --fill-color: #1967D2;\n",
              "      --hover-bg-color: #E2EBFA;\n",
              "      --hover-fill-color: #174EA6;\n",
              "      --disabled-fill-color: #AAA;\n",
              "      --disabled-bg-color: #DDD;\n",
              "  }\n",
              "\n",
              "  [theme=dark] .colab-df-quickchart {\n",
              "      --bg-color: #3B4455;\n",
              "      --fill-color: #D2E3FC;\n",
              "      --hover-bg-color: #434B5C;\n",
              "      --hover-fill-color: #FFFFFF;\n",
              "      --disabled-bg-color: #3B4455;\n",
              "      --disabled-fill-color: #666;\n",
              "  }\n",
              "\n",
              "  .colab-df-quickchart {\n",
              "    background-color: var(--bg-color);\n",
              "    border: none;\n",
              "    border-radius: 50%;\n",
              "    cursor: pointer;\n",
              "    display: none;\n",
              "    fill: var(--fill-color);\n",
              "    height: 32px;\n",
              "    padding: 0;\n",
              "    width: 32px;\n",
              "  }\n",
              "\n",
              "  .colab-df-quickchart:hover {\n",
              "    background-color: var(--hover-bg-color);\n",
              "    box-shadow: 0 1px 2px rgba(60, 64, 67, 0.3), 0 1px 3px 1px rgba(60, 64, 67, 0.15);\n",
              "    fill: var(--button-hover-fill-color);\n",
              "  }\n",
              "\n",
              "  .colab-df-quickchart-complete:disabled,\n",
              "  .colab-df-quickchart-complete:disabled:hover {\n",
              "    background-color: var(--disabled-bg-color);\n",
              "    fill: var(--disabled-fill-color);\n",
              "    box-shadow: none;\n",
              "  }\n",
              "\n",
              "  .colab-df-spinner {\n",
              "    border: 2px solid var(--fill-color);\n",
              "    border-color: transparent;\n",
              "    border-bottom-color: var(--fill-color);\n",
              "    animation:\n",
              "      spin 1s steps(1) infinite;\n",
              "  }\n",
              "\n",
              "  @keyframes spin {\n",
              "    0% {\n",
              "      border-color: transparent;\n",
              "      border-bottom-color: var(--fill-color);\n",
              "      border-left-color: var(--fill-color);\n",
              "    }\n",
              "    20% {\n",
              "      border-color: transparent;\n",
              "      border-left-color: var(--fill-color);\n",
              "      border-top-color: var(--fill-color);\n",
              "    }\n",
              "    30% {\n",
              "      border-color: transparent;\n",
              "      border-left-color: var(--fill-color);\n",
              "      border-top-color: var(--fill-color);\n",
              "      border-right-color: var(--fill-color);\n",
              "    }\n",
              "    40% {\n",
              "      border-color: transparent;\n",
              "      border-right-color: var(--fill-color);\n",
              "      border-top-color: var(--fill-color);\n",
              "    }\n",
              "    60% {\n",
              "      border-color: transparent;\n",
              "      border-right-color: var(--fill-color);\n",
              "    }\n",
              "    80% {\n",
              "      border-color: transparent;\n",
              "      border-right-color: var(--fill-color);\n",
              "      border-bottom-color: var(--fill-color);\n",
              "    }\n",
              "    90% {\n",
              "      border-color: transparent;\n",
              "      border-bottom-color: var(--fill-color);\n",
              "    }\n",
              "  }\n",
              "</style>\n",
              "\n",
              "      <script>\n",
              "        async function quickchart(key) {\n",
              "          const quickchartButtonEl =\n",
              "            document.querySelector('#' + key + ' button');\n",
              "          quickchartButtonEl.disabled = true;  // To prevent multiple clicks.\n",
              "          quickchartButtonEl.classList.add('colab-df-spinner');\n",
              "          try {\n",
              "            const charts = await google.colab.kernel.invokeFunction(\n",
              "                'suggestCharts', [key], {});\n",
              "          } catch (error) {\n",
              "            console.error('Error during call to suggestCharts:', error);\n",
              "          }\n",
              "          quickchartButtonEl.classList.remove('colab-df-spinner');\n",
              "          quickchartButtonEl.classList.add('colab-df-quickchart-complete');\n",
              "        }\n",
              "        (() => {\n",
              "          let quickchartButtonEl =\n",
              "            document.querySelector('#df-9ad6618f-cd38-4f00-af5b-c95f92d91b1f button');\n",
              "          quickchartButtonEl.style.display =\n",
              "            google.colab.kernel.accessAllowed ? 'block' : 'none';\n",
              "        })();\n",
              "      </script>\n",
              "    </div>\n",
              "\n",
              "    </div>\n",
              "  </div>\n"
            ],
            "application/vnd.google.colaboratory.intrinsic+json": {
              "type": "dataframe",
              "variable_name": "df",
              "summary": "{\n  \"name\": \"df\",\n  \"rows\": 1938,\n  \"fields\": [\n    {\n      \"column\": \"label\",\n      \"properties\": {\n        \"dtype\": \"category\",\n        \"num_unique_values\": 2,\n        \"samples\": [\n          \"pos\",\n          \"neg\"\n        ],\n        \"semantic_type\": \"\",\n        \"description\": \"\"\n      }\n    },\n    {\n      \"column\": \"review\",\n      \"properties\": {\n        \"dtype\": \"string\",\n        \"num_unique_values\": 1938,\n        \"samples\": [\n          \"eight years after its release , disney has decided to re-release the little mermaid theatrically for 17 days ( and 17 long nights ) only . \\r\\ncoincidentally , it was reintroduced to theaters the same day fox's animated film anastasia was released . \\r\\nyou know disney , they can't deal with the threat of any other studio getting even a small piece of the crust of the kiddie entertainment pie , so when someone else wants to make a little money , they counter with an old \\\" masterpiece \\\" from their vault and , you know what , i went to see this 1989 cartoon rather than the brand new one from fox . \\r\\nlet no one say disney is losing its monopoly on the market . \\r\\nthey still have hotels on boardwalk _and_ park place . \\r\\nbelieve it or not , today , november 25 , 1997 , at 5 : 05 p . m . , i saw the little mermaid for the first time . \\r\\nit took me a few years to get over an aversion to this movie that was caused seven years ago , when i stayed with one of my mom's friends for a couple weeks . \\r\\nthey had a young child who listened to the little mermaid soundtrack constantly and , over that two week period , i heard every song from the movie probably a hundred times . \\r\\nby the time i got back home , i promised myself i'd never see the movie . \\r\\nbut promises are made to be broken , especially when you're looking at a 17-day , limited engagement . \\r\\ndamn those shrewd disney marketers and their mind games . \\r\\nthe little mermaid is based on a hans christian anderson fairy tale , but it's disney-ized , which means lots of talking animals and bursting into song . \\r\\nit also means the heroine is a total babe who shows off cleavage from a seashell bra at all times . \\r\\ni never wanted so much to be a pair of shells . . . \\r\\nthe heroine , of course , is ariel ( voice of jodi benson ) , a 16-year-old mermaid who is going through that rebellious phase . \\r\\nshe skips her concert to explore a wrecked ship and hang out with a seagull that talks like buddy hackett , who tries to orient her to the mysterious world of humans . \\r\\nshe's also dealing with feelings she hasn't had before -- which comes when you get scales in places you didn't use to have them -- about a handsome prince ( no disney movie would be complete without one ) . \\r\\nher father , king triton of the merpeople , strictly forbids such lusting after the ways of the \\\" savage \\\" humans , in a condemnation that reads as a not-so-subtle analogy about old- fashioned parents who forbid interracial dating . \\r\\nwhat's a king to do , though ? \\r\\nthe girl's in love and even total destruction of her little shrine to the human world doesn't deter her . \\r\\nariel saves the prince's life when a hurricane rises up , and just has to meet him . \\r\\nshe makes a deal with ursula , the sea witch ( voice of pat carroll ) . \\r\\nyou know she's evil because she has a huge potbelly and one of the worst asses in cartoon history . \\r\\nshe also has octopus tentacles for feet ( something those dr . scholl's corn pads will not fix ) and offers to help ariel out . \\r\\nshe'll make her a human for three days if ariel will give up her pretty voice ; ariel has three days to make that prince kiss her , or else she becomes a slave to the witch forever . \\r\\nand if she pricks her finger on a sewing machine or eats an evil apple , she'll fall asleep forever . \\r\\nit's a simplistic plot , yes , but the little mermaid was a revolution in the disney world , coming after such lackluster efforts as the black cauldron and oliver and company . \\r\\nit ranks as one of the best disney cartoons , certainly since the '50s . \\r\\nall the elements are there -- memorable songs like \\\" under the sea \\\" and \\\" kiss the girl , \\\" cartoon animals like sebastian and flounder , an evil villain who still has characterization and charm , and a fair amount of humor that caters to adults as well as children . \\r\\nthe little mermaid is worth a big-screen ticket in 1997 , so hurry up , you only have five days left . \\r\\nserving america for more than 1/25th of a century ! \\r\\n\",\n          \"it's been a long time since walt disney has delivered us a classic along the lines of the little mermaid or beauty and the beast . \\r\\nsure , there have been delightful outings like last years hercules . \\r\\nbut nothing entirely groundbreaking . \\r\\nwith the release of the studio's newest feature length film , a remake of edgar rice burrough's creation tarzan , disney has plunged into new waters with both maturity and animation techniques . \\r\\nit's no classic , but this new tarzan represents exactly what a family film should be . \\r\\nthe plot is loyal to the original storyline , as tarzan's parents are forced to abandon their ship which has caught fire , and find shelter in the jungles of africa . \\r\\nbut , they are killed ( offscreen ) by the snarling cheetah sabor , leaving baby tarzan alone and unharmed in his crib . \\r\\nfound by kala ( voiced with effective gentleness by glenn close ) , a kindhearted mother and member of a gorilla pack , tarzan is taken into the primate group and raised as one of their own . \\r\\nwe follow the young boy through the years , as he partakes in various adventures with his loud mouth gorilla friend terk ( a very brash but funny rosie o'donnell ) and clumsy elephant tantor ( wayne knight ) . \\r\\nof course , in any disney film we are given some kind of goofy sidekick or humorous chum for the hero . \\r\\nin tarzan , these characters fill that space rather inconspicuously . \\r\\ngags that were magnified in other family films are kept quite minor here . \\r\\nmost of the characters are amusing without being forced . \\r\\nas tarzan grows to manhood , the suspected antagonist stumbles into the picture . \\r\\nhere , the notorious bad guy is the big game hunter clayton ( brian blessed ) , who's accompanying a hapless professor ( nigel hawthorne ) on an expedition through the jungle . \\r\\nof course , there's the professor's daughter , jane ( nicely vocalized by a cheerful minnie driver ) who will help supply the romantic quotient of the movie . \\r\\nthe thing that blew my socks off about this version of tarzan is the stunning animation . \\r\\ndirectors chris buck and kevin lima have applied a breathtaking 3-d element to the movement of the athletic title character , and the fast-paced editing is absolutely a marvel . \\r\\nas tarzan carries jane through the treetops , narrowly escaping a pack of nasty baboons , he slips and slides like a daredevil snow boarder or star surfer riding the big wave . \\r\\nyour eyes can barely keep up ; it's a fantastic accomplishment . \\r\\nthe subject matter here is also a notch or two above animation average . \\r\\nthere are important questions raised about tarzan's place in the world , and all are handled exceptionally well by the screenwriters . \\r\\nthere is no shred of doubt left to ponder afterward , which is a surprising plus that i wasn't expecting to find here . \\r\\nsuffice to say , this film will have both adults and children thoroughly entertained . \\r\\nthe grown-up tarzan is voiced by tony goldwyn , who made a name for himself as the `big mean jerk' from ghost . \\r\\ngoldwyn is effective playing someone who's not aware of his world's dangers . \\r\\nglenn close is also memorable as his gorilla mother , and lance henriksen ( from tv's millennium ) is terrific as the silverback father unsure of how to accept the presence of a human child . \\r\\nas the movie's villain , there is nothing particularly special or catching about the character of clayton . \\r\\nit helps that brian blessed supplies his voice with game enthusiasm , but he is nothing compared to james woods' hilarious hades from hercules . \\r\\na burley guy with a big gun who just wants to capture the gorillas does not quite constitute for an all-together noticeable screen presence . \\r\\nstill , this is one great thrill-ride that disney has constructed . \\r\\ni never expected rice burrough's work to be transformed so successfully from live action to animation , nor with so much emotional depth . \\r\\nparents , along with all the kiddies , are going to find much to like in tarzan . \\r\\n\"\n        ],\n        \"semantic_type\": \"\",\n        \"description\": \"\"\n      }\n    },\n    {\n      \"column\": \"scores\",\n      \"properties\": {\n        \"dtype\": \"object\",\n        \"semantic_type\": \"\",\n        \"description\": \"\"\n      }\n    }\n  ]\n}"
            }
          },
          "metadata": {},
          "execution_count": 52
        }
      ]
    },
    {
      "cell_type": "code",
      "source": [
        "df['comp_score'] = df['scores'].apply(lambda score_dict : score_dict['compound'])"
      ],
      "metadata": {
        "id": "ePOopLrna57J"
      },
      "execution_count": 53,
      "outputs": []
    },
    {
      "cell_type": "code",
      "source": [
        "df.head()"
      ],
      "metadata": {
        "colab": {
          "base_uri": "https://localhost:8080/",
          "height": 206
        },
        "id": "isGxmaD3b1v9",
        "outputId": "76dacdb1-5a48-4260-903d-9815e0ff651f"
      },
      "execution_count": 54,
      "outputs": [
        {
          "output_type": "execute_result",
          "data": {
            "text/plain": [
              "  label                                             review  \\\n",
              "0   neg  how do films like mouse hunt get into theatres...   \n",
              "1   neg  some talented actresses are blessed with a dem...   \n",
              "2   pos  this has been an extraordinary year for austra...   \n",
              "3   pos  according to hollywood movies made in last few...   \n",
              "4   neg  my first press screening of 1998 and already i...   \n",
              "\n",
              "                                              scores  comp_score  \n",
              "0  {'neg': 0.121, 'neu': 0.778, 'pos': 0.101, 'co...     -0.9125  \n",
              "1  {'neg': 0.12, 'neu': 0.775, 'pos': 0.105, 'com...     -0.8618  \n",
              "2  {'neg': 0.068, 'neu': 0.781, 'pos': 0.15, 'com...      0.9951  \n",
              "3  {'neg': 0.071, 'neu': 0.782, 'pos': 0.147, 'co...      0.9972  \n",
              "4  {'neg': 0.091, 'neu': 0.817, 'pos': 0.093, 'co...     -0.2484  "
            ],
            "text/html": [
              "\n",
              "  <div id=\"df-308be2e3-c2a2-4a04-8500-382519360aff\" class=\"colab-df-container\">\n",
              "    <div>\n",
              "<style scoped>\n",
              "    .dataframe tbody tr th:only-of-type {\n",
              "        vertical-align: middle;\n",
              "    }\n",
              "\n",
              "    .dataframe tbody tr th {\n",
              "        vertical-align: top;\n",
              "    }\n",
              "\n",
              "    .dataframe thead th {\n",
              "        text-align: right;\n",
              "    }\n",
              "</style>\n",
              "<table border=\"1\" class=\"dataframe\">\n",
              "  <thead>\n",
              "    <tr style=\"text-align: right;\">\n",
              "      <th></th>\n",
              "      <th>label</th>\n",
              "      <th>review</th>\n",
              "      <th>scores</th>\n",
              "      <th>comp_score</th>\n",
              "    </tr>\n",
              "  </thead>\n",
              "  <tbody>\n",
              "    <tr>\n",
              "      <th>0</th>\n",
              "      <td>neg</td>\n",
              "      <td>how do films like mouse hunt get into theatres...</td>\n",
              "      <td>{'neg': 0.121, 'neu': 0.778, 'pos': 0.101, 'co...</td>\n",
              "      <td>-0.9125</td>\n",
              "    </tr>\n",
              "    <tr>\n",
              "      <th>1</th>\n",
              "      <td>neg</td>\n",
              "      <td>some talented actresses are blessed with a dem...</td>\n",
              "      <td>{'neg': 0.12, 'neu': 0.775, 'pos': 0.105, 'com...</td>\n",
              "      <td>-0.8618</td>\n",
              "    </tr>\n",
              "    <tr>\n",
              "      <th>2</th>\n",
              "      <td>pos</td>\n",
              "      <td>this has been an extraordinary year for austra...</td>\n",
              "      <td>{'neg': 0.068, 'neu': 0.781, 'pos': 0.15, 'com...</td>\n",
              "      <td>0.9951</td>\n",
              "    </tr>\n",
              "    <tr>\n",
              "      <th>3</th>\n",
              "      <td>pos</td>\n",
              "      <td>according to hollywood movies made in last few...</td>\n",
              "      <td>{'neg': 0.071, 'neu': 0.782, 'pos': 0.147, 'co...</td>\n",
              "      <td>0.9972</td>\n",
              "    </tr>\n",
              "    <tr>\n",
              "      <th>4</th>\n",
              "      <td>neg</td>\n",
              "      <td>my first press screening of 1998 and already i...</td>\n",
              "      <td>{'neg': 0.091, 'neu': 0.817, 'pos': 0.093, 'co...</td>\n",
              "      <td>-0.2484</td>\n",
              "    </tr>\n",
              "  </tbody>\n",
              "</table>\n",
              "</div>\n",
              "    <div class=\"colab-df-buttons\">\n",
              "\n",
              "  <div class=\"colab-df-container\">\n",
              "    <button class=\"colab-df-convert\" onclick=\"convertToInteractive('df-308be2e3-c2a2-4a04-8500-382519360aff')\"\n",
              "            title=\"Convert this dataframe to an interactive table.\"\n",
              "            style=\"display:none;\">\n",
              "\n",
              "  <svg xmlns=\"http://www.w3.org/2000/svg\" height=\"24px\" viewBox=\"0 -960 960 960\">\n",
              "    <path d=\"M120-120v-720h720v720H120Zm60-500h600v-160H180v160Zm220 220h160v-160H400v160Zm0 220h160v-160H400v160ZM180-400h160v-160H180v160Zm440 0h160v-160H620v160ZM180-180h160v-160H180v160Zm440 0h160v-160H620v160Z\"/>\n",
              "  </svg>\n",
              "    </button>\n",
              "\n",
              "  <style>\n",
              "    .colab-df-container {\n",
              "      display:flex;\n",
              "      gap: 12px;\n",
              "    }\n",
              "\n",
              "    .colab-df-convert {\n",
              "      background-color: #E8F0FE;\n",
              "      border: none;\n",
              "      border-radius: 50%;\n",
              "      cursor: pointer;\n",
              "      display: none;\n",
              "      fill: #1967D2;\n",
              "      height: 32px;\n",
              "      padding: 0 0 0 0;\n",
              "      width: 32px;\n",
              "    }\n",
              "\n",
              "    .colab-df-convert:hover {\n",
              "      background-color: #E2EBFA;\n",
              "      box-shadow: 0px 1px 2px rgba(60, 64, 67, 0.3), 0px 1px 3px 1px rgba(60, 64, 67, 0.15);\n",
              "      fill: #174EA6;\n",
              "    }\n",
              "\n",
              "    .colab-df-buttons div {\n",
              "      margin-bottom: 4px;\n",
              "    }\n",
              "\n",
              "    [theme=dark] .colab-df-convert {\n",
              "      background-color: #3B4455;\n",
              "      fill: #D2E3FC;\n",
              "    }\n",
              "\n",
              "    [theme=dark] .colab-df-convert:hover {\n",
              "      background-color: #434B5C;\n",
              "      box-shadow: 0px 1px 3px 1px rgba(0, 0, 0, 0.15);\n",
              "      filter: drop-shadow(0px 1px 2px rgba(0, 0, 0, 0.3));\n",
              "      fill: #FFFFFF;\n",
              "    }\n",
              "  </style>\n",
              "\n",
              "    <script>\n",
              "      const buttonEl =\n",
              "        document.querySelector('#df-308be2e3-c2a2-4a04-8500-382519360aff button.colab-df-convert');\n",
              "      buttonEl.style.display =\n",
              "        google.colab.kernel.accessAllowed ? 'block' : 'none';\n",
              "\n",
              "      async function convertToInteractive(key) {\n",
              "        const element = document.querySelector('#df-308be2e3-c2a2-4a04-8500-382519360aff');\n",
              "        const dataTable =\n",
              "          await google.colab.kernel.invokeFunction('convertToInteractive',\n",
              "                                                    [key], {});\n",
              "        if (!dataTable) return;\n",
              "\n",
              "        const docLinkHtml = 'Like what you see? Visit the ' +\n",
              "          '<a target=\"_blank\" href=https://colab.research.google.com/notebooks/data_table.ipynb>data table notebook</a>'\n",
              "          + ' to learn more about interactive tables.';\n",
              "        element.innerHTML = '';\n",
              "        dataTable['output_type'] = 'display_data';\n",
              "        await google.colab.output.renderOutput(dataTable, element);\n",
              "        const docLink = document.createElement('div');\n",
              "        docLink.innerHTML = docLinkHtml;\n",
              "        element.appendChild(docLink);\n",
              "      }\n",
              "    </script>\n",
              "  </div>\n",
              "\n",
              "\n",
              "    <div id=\"df-6e809de8-4e3d-431d-8622-462fced5fff7\">\n",
              "      <button class=\"colab-df-quickchart\" onclick=\"quickchart('df-6e809de8-4e3d-431d-8622-462fced5fff7')\"\n",
              "                title=\"Suggest charts\"\n",
              "                style=\"display:none;\">\n",
              "\n",
              "<svg xmlns=\"http://www.w3.org/2000/svg\" height=\"24px\"viewBox=\"0 0 24 24\"\n",
              "     width=\"24px\">\n",
              "    <g>\n",
              "        <path d=\"M19 3H5c-1.1 0-2 .9-2 2v14c0 1.1.9 2 2 2h14c1.1 0 2-.9 2-2V5c0-1.1-.9-2-2-2zM9 17H7v-7h2v7zm4 0h-2V7h2v10zm4 0h-2v-4h2v4z\"/>\n",
              "    </g>\n",
              "</svg>\n",
              "      </button>\n",
              "\n",
              "<style>\n",
              "  .colab-df-quickchart {\n",
              "      --bg-color: #E8F0FE;\n",
              "      --fill-color: #1967D2;\n",
              "      --hover-bg-color: #E2EBFA;\n",
              "      --hover-fill-color: #174EA6;\n",
              "      --disabled-fill-color: #AAA;\n",
              "      --disabled-bg-color: #DDD;\n",
              "  }\n",
              "\n",
              "  [theme=dark] .colab-df-quickchart {\n",
              "      --bg-color: #3B4455;\n",
              "      --fill-color: #D2E3FC;\n",
              "      --hover-bg-color: #434B5C;\n",
              "      --hover-fill-color: #FFFFFF;\n",
              "      --disabled-bg-color: #3B4455;\n",
              "      --disabled-fill-color: #666;\n",
              "  }\n",
              "\n",
              "  .colab-df-quickchart {\n",
              "    background-color: var(--bg-color);\n",
              "    border: none;\n",
              "    border-radius: 50%;\n",
              "    cursor: pointer;\n",
              "    display: none;\n",
              "    fill: var(--fill-color);\n",
              "    height: 32px;\n",
              "    padding: 0;\n",
              "    width: 32px;\n",
              "  }\n",
              "\n",
              "  .colab-df-quickchart:hover {\n",
              "    background-color: var(--hover-bg-color);\n",
              "    box-shadow: 0 1px 2px rgba(60, 64, 67, 0.3), 0 1px 3px 1px rgba(60, 64, 67, 0.15);\n",
              "    fill: var(--button-hover-fill-color);\n",
              "  }\n",
              "\n",
              "  .colab-df-quickchart-complete:disabled,\n",
              "  .colab-df-quickchart-complete:disabled:hover {\n",
              "    background-color: var(--disabled-bg-color);\n",
              "    fill: var(--disabled-fill-color);\n",
              "    box-shadow: none;\n",
              "  }\n",
              "\n",
              "  .colab-df-spinner {\n",
              "    border: 2px solid var(--fill-color);\n",
              "    border-color: transparent;\n",
              "    border-bottom-color: var(--fill-color);\n",
              "    animation:\n",
              "      spin 1s steps(1) infinite;\n",
              "  }\n",
              "\n",
              "  @keyframes spin {\n",
              "    0% {\n",
              "      border-color: transparent;\n",
              "      border-bottom-color: var(--fill-color);\n",
              "      border-left-color: var(--fill-color);\n",
              "    }\n",
              "    20% {\n",
              "      border-color: transparent;\n",
              "      border-left-color: var(--fill-color);\n",
              "      border-top-color: var(--fill-color);\n",
              "    }\n",
              "    30% {\n",
              "      border-color: transparent;\n",
              "      border-left-color: var(--fill-color);\n",
              "      border-top-color: var(--fill-color);\n",
              "      border-right-color: var(--fill-color);\n",
              "    }\n",
              "    40% {\n",
              "      border-color: transparent;\n",
              "      border-right-color: var(--fill-color);\n",
              "      border-top-color: var(--fill-color);\n",
              "    }\n",
              "    60% {\n",
              "      border-color: transparent;\n",
              "      border-right-color: var(--fill-color);\n",
              "    }\n",
              "    80% {\n",
              "      border-color: transparent;\n",
              "      border-right-color: var(--fill-color);\n",
              "      border-bottom-color: var(--fill-color);\n",
              "    }\n",
              "    90% {\n",
              "      border-color: transparent;\n",
              "      border-bottom-color: var(--fill-color);\n",
              "    }\n",
              "  }\n",
              "</style>\n",
              "\n",
              "      <script>\n",
              "        async function quickchart(key) {\n",
              "          const quickchartButtonEl =\n",
              "            document.querySelector('#' + key + ' button');\n",
              "          quickchartButtonEl.disabled = true;  // To prevent multiple clicks.\n",
              "          quickchartButtonEl.classList.add('colab-df-spinner');\n",
              "          try {\n",
              "            const charts = await google.colab.kernel.invokeFunction(\n",
              "                'suggestCharts', [key], {});\n",
              "          } catch (error) {\n",
              "            console.error('Error during call to suggestCharts:', error);\n",
              "          }\n",
              "          quickchartButtonEl.classList.remove('colab-df-spinner');\n",
              "          quickchartButtonEl.classList.add('colab-df-quickchart-complete');\n",
              "        }\n",
              "        (() => {\n",
              "          let quickchartButtonEl =\n",
              "            document.querySelector('#df-6e809de8-4e3d-431d-8622-462fced5fff7 button');\n",
              "          quickchartButtonEl.style.display =\n",
              "            google.colab.kernel.accessAllowed ? 'block' : 'none';\n",
              "        })();\n",
              "      </script>\n",
              "    </div>\n",
              "\n",
              "    </div>\n",
              "  </div>\n"
            ],
            "application/vnd.google.colaboratory.intrinsic+json": {
              "type": "dataframe",
              "variable_name": "df",
              "summary": "{\n  \"name\": \"df\",\n  \"rows\": 1938,\n  \"fields\": [\n    {\n      \"column\": \"label\",\n      \"properties\": {\n        \"dtype\": \"category\",\n        \"num_unique_values\": 2,\n        \"samples\": [\n          \"pos\",\n          \"neg\"\n        ],\n        \"semantic_type\": \"\",\n        \"description\": \"\"\n      }\n    },\n    {\n      \"column\": \"review\",\n      \"properties\": {\n        \"dtype\": \"string\",\n        \"num_unique_values\": 1938,\n        \"samples\": [\n          \"eight years after its release , disney has decided to re-release the little mermaid theatrically for 17 days ( and 17 long nights ) only . \\r\\ncoincidentally , it was reintroduced to theaters the same day fox's animated film anastasia was released . \\r\\nyou know disney , they can't deal with the threat of any other studio getting even a small piece of the crust of the kiddie entertainment pie , so when someone else wants to make a little money , they counter with an old \\\" masterpiece \\\" from their vault and , you know what , i went to see this 1989 cartoon rather than the brand new one from fox . \\r\\nlet no one say disney is losing its monopoly on the market . \\r\\nthey still have hotels on boardwalk _and_ park place . \\r\\nbelieve it or not , today , november 25 , 1997 , at 5 : 05 p . m . , i saw the little mermaid for the first time . \\r\\nit took me a few years to get over an aversion to this movie that was caused seven years ago , when i stayed with one of my mom's friends for a couple weeks . \\r\\nthey had a young child who listened to the little mermaid soundtrack constantly and , over that two week period , i heard every song from the movie probably a hundred times . \\r\\nby the time i got back home , i promised myself i'd never see the movie . \\r\\nbut promises are made to be broken , especially when you're looking at a 17-day , limited engagement . \\r\\ndamn those shrewd disney marketers and their mind games . \\r\\nthe little mermaid is based on a hans christian anderson fairy tale , but it's disney-ized , which means lots of talking animals and bursting into song . \\r\\nit also means the heroine is a total babe who shows off cleavage from a seashell bra at all times . \\r\\ni never wanted so much to be a pair of shells . . . \\r\\nthe heroine , of course , is ariel ( voice of jodi benson ) , a 16-year-old mermaid who is going through that rebellious phase . \\r\\nshe skips her concert to explore a wrecked ship and hang out with a seagull that talks like buddy hackett , who tries to orient her to the mysterious world of humans . \\r\\nshe's also dealing with feelings she hasn't had before -- which comes when you get scales in places you didn't use to have them -- about a handsome prince ( no disney movie would be complete without one ) . \\r\\nher father , king triton of the merpeople , strictly forbids such lusting after the ways of the \\\" savage \\\" humans , in a condemnation that reads as a not-so-subtle analogy about old- fashioned parents who forbid interracial dating . \\r\\nwhat's a king to do , though ? \\r\\nthe girl's in love and even total destruction of her little shrine to the human world doesn't deter her . \\r\\nariel saves the prince's life when a hurricane rises up , and just has to meet him . \\r\\nshe makes a deal with ursula , the sea witch ( voice of pat carroll ) . \\r\\nyou know she's evil because she has a huge potbelly and one of the worst asses in cartoon history . \\r\\nshe also has octopus tentacles for feet ( something those dr . scholl's corn pads will not fix ) and offers to help ariel out . \\r\\nshe'll make her a human for three days if ariel will give up her pretty voice ; ariel has three days to make that prince kiss her , or else she becomes a slave to the witch forever . \\r\\nand if she pricks her finger on a sewing machine or eats an evil apple , she'll fall asleep forever . \\r\\nit's a simplistic plot , yes , but the little mermaid was a revolution in the disney world , coming after such lackluster efforts as the black cauldron and oliver and company . \\r\\nit ranks as one of the best disney cartoons , certainly since the '50s . \\r\\nall the elements are there -- memorable songs like \\\" under the sea \\\" and \\\" kiss the girl , \\\" cartoon animals like sebastian and flounder , an evil villain who still has characterization and charm , and a fair amount of humor that caters to adults as well as children . \\r\\nthe little mermaid is worth a big-screen ticket in 1997 , so hurry up , you only have five days left . \\r\\nserving america for more than 1/25th of a century ! \\r\\n\",\n          \"it's been a long time since walt disney has delivered us a classic along the lines of the little mermaid or beauty and the beast . \\r\\nsure , there have been delightful outings like last years hercules . \\r\\nbut nothing entirely groundbreaking . \\r\\nwith the release of the studio's newest feature length film , a remake of edgar rice burrough's creation tarzan , disney has plunged into new waters with both maturity and animation techniques . \\r\\nit's no classic , but this new tarzan represents exactly what a family film should be . \\r\\nthe plot is loyal to the original storyline , as tarzan's parents are forced to abandon their ship which has caught fire , and find shelter in the jungles of africa . \\r\\nbut , they are killed ( offscreen ) by the snarling cheetah sabor , leaving baby tarzan alone and unharmed in his crib . \\r\\nfound by kala ( voiced with effective gentleness by glenn close ) , a kindhearted mother and member of a gorilla pack , tarzan is taken into the primate group and raised as one of their own . \\r\\nwe follow the young boy through the years , as he partakes in various adventures with his loud mouth gorilla friend terk ( a very brash but funny rosie o'donnell ) and clumsy elephant tantor ( wayne knight ) . \\r\\nof course , in any disney film we are given some kind of goofy sidekick or humorous chum for the hero . \\r\\nin tarzan , these characters fill that space rather inconspicuously . \\r\\ngags that were magnified in other family films are kept quite minor here . \\r\\nmost of the characters are amusing without being forced . \\r\\nas tarzan grows to manhood , the suspected antagonist stumbles into the picture . \\r\\nhere , the notorious bad guy is the big game hunter clayton ( brian blessed ) , who's accompanying a hapless professor ( nigel hawthorne ) on an expedition through the jungle . \\r\\nof course , there's the professor's daughter , jane ( nicely vocalized by a cheerful minnie driver ) who will help supply the romantic quotient of the movie . \\r\\nthe thing that blew my socks off about this version of tarzan is the stunning animation . \\r\\ndirectors chris buck and kevin lima have applied a breathtaking 3-d element to the movement of the athletic title character , and the fast-paced editing is absolutely a marvel . \\r\\nas tarzan carries jane through the treetops , narrowly escaping a pack of nasty baboons , he slips and slides like a daredevil snow boarder or star surfer riding the big wave . \\r\\nyour eyes can barely keep up ; it's a fantastic accomplishment . \\r\\nthe subject matter here is also a notch or two above animation average . \\r\\nthere are important questions raised about tarzan's place in the world , and all are handled exceptionally well by the screenwriters . \\r\\nthere is no shred of doubt left to ponder afterward , which is a surprising plus that i wasn't expecting to find here . \\r\\nsuffice to say , this film will have both adults and children thoroughly entertained . \\r\\nthe grown-up tarzan is voiced by tony goldwyn , who made a name for himself as the `big mean jerk' from ghost . \\r\\ngoldwyn is effective playing someone who's not aware of his world's dangers . \\r\\nglenn close is also memorable as his gorilla mother , and lance henriksen ( from tv's millennium ) is terrific as the silverback father unsure of how to accept the presence of a human child . \\r\\nas the movie's villain , there is nothing particularly special or catching about the character of clayton . \\r\\nit helps that brian blessed supplies his voice with game enthusiasm , but he is nothing compared to james woods' hilarious hades from hercules . \\r\\na burley guy with a big gun who just wants to capture the gorillas does not quite constitute for an all-together noticeable screen presence . \\r\\nstill , this is one great thrill-ride that disney has constructed . \\r\\ni never expected rice burrough's work to be transformed so successfully from live action to animation , nor with so much emotional depth . \\r\\nparents , along with all the kiddies , are going to find much to like in tarzan . \\r\\n\"\n        ],\n        \"semantic_type\": \"\",\n        \"description\": \"\"\n      }\n    },\n    {\n      \"column\": \"scores\",\n      \"properties\": {\n        \"dtype\": \"object\",\n        \"semantic_type\": \"\",\n        \"description\": \"\"\n      }\n    },\n    {\n      \"column\": \"comp_score\",\n      \"properties\": {\n        \"dtype\": \"number\",\n        \"std\": 0.8491773392769579,\n        \"min\": -0.9996,\n        \"max\": 0.9999,\n        \"num_unique_values\": 1044,\n        \"samples\": [\n          0.9138,\n          0.9814\n        ],\n        \"semantic_type\": \"\",\n        \"description\": \"\"\n      }\n    }\n  ]\n}"
            }
          },
          "metadata": {},
          "execution_count": 54
        }
      ]
    },
    {
      "cell_type": "code",
      "execution_count": 56,
      "metadata": {
        "id": "bnhMtXBn8TN7"
      },
      "outputs": [],
      "source": [
        "df['comp_score_label'] = df['comp_score'].apply(lambda s : 'pos' if s >= 0  else 'neg')"
      ]
    },
    {
      "cell_type": "code",
      "source": [
        "df.head()"
      ],
      "metadata": {
        "colab": {
          "base_uri": "https://localhost:8080/",
          "height": 206
        },
        "id": "BsPjBfLaciwb",
        "outputId": "1ef232da-5ff6-4dc5-a7b9-a3ef6e7684b9"
      },
      "execution_count": 57,
      "outputs": [
        {
          "output_type": "execute_result",
          "data": {
            "text/plain": [
              "  label                                             review  \\\n",
              "0   neg  how do films like mouse hunt get into theatres...   \n",
              "1   neg  some talented actresses are blessed with a dem...   \n",
              "2   pos  this has been an extraordinary year for austra...   \n",
              "3   pos  according to hollywood movies made in last few...   \n",
              "4   neg  my first press screening of 1998 and already i...   \n",
              "\n",
              "                                              scores  comp_score  \\\n",
              "0  {'neg': 0.121, 'neu': 0.778, 'pos': 0.101, 'co...     -0.9125   \n",
              "1  {'neg': 0.12, 'neu': 0.775, 'pos': 0.105, 'com...     -0.8618   \n",
              "2  {'neg': 0.068, 'neu': 0.781, 'pos': 0.15, 'com...      0.9951   \n",
              "3  {'neg': 0.071, 'neu': 0.782, 'pos': 0.147, 'co...      0.9972   \n",
              "4  {'neg': 0.091, 'neu': 0.817, 'pos': 0.093, 'co...     -0.2484   \n",
              "\n",
              "  comp_score_label  \n",
              "0              neg  \n",
              "1              neg  \n",
              "2              pos  \n",
              "3              pos  \n",
              "4              neg  "
            ],
            "text/html": [
              "\n",
              "  <div id=\"df-37c171ba-b4ae-4eb2-8a86-80387c5c6c6f\" class=\"colab-df-container\">\n",
              "    <div>\n",
              "<style scoped>\n",
              "    .dataframe tbody tr th:only-of-type {\n",
              "        vertical-align: middle;\n",
              "    }\n",
              "\n",
              "    .dataframe tbody tr th {\n",
              "        vertical-align: top;\n",
              "    }\n",
              "\n",
              "    .dataframe thead th {\n",
              "        text-align: right;\n",
              "    }\n",
              "</style>\n",
              "<table border=\"1\" class=\"dataframe\">\n",
              "  <thead>\n",
              "    <tr style=\"text-align: right;\">\n",
              "      <th></th>\n",
              "      <th>label</th>\n",
              "      <th>review</th>\n",
              "      <th>scores</th>\n",
              "      <th>comp_score</th>\n",
              "      <th>comp_score_label</th>\n",
              "    </tr>\n",
              "  </thead>\n",
              "  <tbody>\n",
              "    <tr>\n",
              "      <th>0</th>\n",
              "      <td>neg</td>\n",
              "      <td>how do films like mouse hunt get into theatres...</td>\n",
              "      <td>{'neg': 0.121, 'neu': 0.778, 'pos': 0.101, 'co...</td>\n",
              "      <td>-0.9125</td>\n",
              "      <td>neg</td>\n",
              "    </tr>\n",
              "    <tr>\n",
              "      <th>1</th>\n",
              "      <td>neg</td>\n",
              "      <td>some talented actresses are blessed with a dem...</td>\n",
              "      <td>{'neg': 0.12, 'neu': 0.775, 'pos': 0.105, 'com...</td>\n",
              "      <td>-0.8618</td>\n",
              "      <td>neg</td>\n",
              "    </tr>\n",
              "    <tr>\n",
              "      <th>2</th>\n",
              "      <td>pos</td>\n",
              "      <td>this has been an extraordinary year for austra...</td>\n",
              "      <td>{'neg': 0.068, 'neu': 0.781, 'pos': 0.15, 'com...</td>\n",
              "      <td>0.9951</td>\n",
              "      <td>pos</td>\n",
              "    </tr>\n",
              "    <tr>\n",
              "      <th>3</th>\n",
              "      <td>pos</td>\n",
              "      <td>according to hollywood movies made in last few...</td>\n",
              "      <td>{'neg': 0.071, 'neu': 0.782, 'pos': 0.147, 'co...</td>\n",
              "      <td>0.9972</td>\n",
              "      <td>pos</td>\n",
              "    </tr>\n",
              "    <tr>\n",
              "      <th>4</th>\n",
              "      <td>neg</td>\n",
              "      <td>my first press screening of 1998 and already i...</td>\n",
              "      <td>{'neg': 0.091, 'neu': 0.817, 'pos': 0.093, 'co...</td>\n",
              "      <td>-0.2484</td>\n",
              "      <td>neg</td>\n",
              "    </tr>\n",
              "  </tbody>\n",
              "</table>\n",
              "</div>\n",
              "    <div class=\"colab-df-buttons\">\n",
              "\n",
              "  <div class=\"colab-df-container\">\n",
              "    <button class=\"colab-df-convert\" onclick=\"convertToInteractive('df-37c171ba-b4ae-4eb2-8a86-80387c5c6c6f')\"\n",
              "            title=\"Convert this dataframe to an interactive table.\"\n",
              "            style=\"display:none;\">\n",
              "\n",
              "  <svg xmlns=\"http://www.w3.org/2000/svg\" height=\"24px\" viewBox=\"0 -960 960 960\">\n",
              "    <path d=\"M120-120v-720h720v720H120Zm60-500h600v-160H180v160Zm220 220h160v-160H400v160Zm0 220h160v-160H400v160ZM180-400h160v-160H180v160Zm440 0h160v-160H620v160ZM180-180h160v-160H180v160Zm440 0h160v-160H620v160Z\"/>\n",
              "  </svg>\n",
              "    </button>\n",
              "\n",
              "  <style>\n",
              "    .colab-df-container {\n",
              "      display:flex;\n",
              "      gap: 12px;\n",
              "    }\n",
              "\n",
              "    .colab-df-convert {\n",
              "      background-color: #E8F0FE;\n",
              "      border: none;\n",
              "      border-radius: 50%;\n",
              "      cursor: pointer;\n",
              "      display: none;\n",
              "      fill: #1967D2;\n",
              "      height: 32px;\n",
              "      padding: 0 0 0 0;\n",
              "      width: 32px;\n",
              "    }\n",
              "\n",
              "    .colab-df-convert:hover {\n",
              "      background-color: #E2EBFA;\n",
              "      box-shadow: 0px 1px 2px rgba(60, 64, 67, 0.3), 0px 1px 3px 1px rgba(60, 64, 67, 0.15);\n",
              "      fill: #174EA6;\n",
              "    }\n",
              "\n",
              "    .colab-df-buttons div {\n",
              "      margin-bottom: 4px;\n",
              "    }\n",
              "\n",
              "    [theme=dark] .colab-df-convert {\n",
              "      background-color: #3B4455;\n",
              "      fill: #D2E3FC;\n",
              "    }\n",
              "\n",
              "    [theme=dark] .colab-df-convert:hover {\n",
              "      background-color: #434B5C;\n",
              "      box-shadow: 0px 1px 3px 1px rgba(0, 0, 0, 0.15);\n",
              "      filter: drop-shadow(0px 1px 2px rgba(0, 0, 0, 0.3));\n",
              "      fill: #FFFFFF;\n",
              "    }\n",
              "  </style>\n",
              "\n",
              "    <script>\n",
              "      const buttonEl =\n",
              "        document.querySelector('#df-37c171ba-b4ae-4eb2-8a86-80387c5c6c6f button.colab-df-convert');\n",
              "      buttonEl.style.display =\n",
              "        google.colab.kernel.accessAllowed ? 'block' : 'none';\n",
              "\n",
              "      async function convertToInteractive(key) {\n",
              "        const element = document.querySelector('#df-37c171ba-b4ae-4eb2-8a86-80387c5c6c6f');\n",
              "        const dataTable =\n",
              "          await google.colab.kernel.invokeFunction('convertToInteractive',\n",
              "                                                    [key], {});\n",
              "        if (!dataTable) return;\n",
              "\n",
              "        const docLinkHtml = 'Like what you see? Visit the ' +\n",
              "          '<a target=\"_blank\" href=https://colab.research.google.com/notebooks/data_table.ipynb>data table notebook</a>'\n",
              "          + ' to learn more about interactive tables.';\n",
              "        element.innerHTML = '';\n",
              "        dataTable['output_type'] = 'display_data';\n",
              "        await google.colab.output.renderOutput(dataTable, element);\n",
              "        const docLink = document.createElement('div');\n",
              "        docLink.innerHTML = docLinkHtml;\n",
              "        element.appendChild(docLink);\n",
              "      }\n",
              "    </script>\n",
              "  </div>\n",
              "\n",
              "\n",
              "    <div id=\"df-1d5a2b57-c1b6-43cc-9031-2da9354b2937\">\n",
              "      <button class=\"colab-df-quickchart\" onclick=\"quickchart('df-1d5a2b57-c1b6-43cc-9031-2da9354b2937')\"\n",
              "                title=\"Suggest charts\"\n",
              "                style=\"display:none;\">\n",
              "\n",
              "<svg xmlns=\"http://www.w3.org/2000/svg\" height=\"24px\"viewBox=\"0 0 24 24\"\n",
              "     width=\"24px\">\n",
              "    <g>\n",
              "        <path d=\"M19 3H5c-1.1 0-2 .9-2 2v14c0 1.1.9 2 2 2h14c1.1 0 2-.9 2-2V5c0-1.1-.9-2-2-2zM9 17H7v-7h2v7zm4 0h-2V7h2v10zm4 0h-2v-4h2v4z\"/>\n",
              "    </g>\n",
              "</svg>\n",
              "      </button>\n",
              "\n",
              "<style>\n",
              "  .colab-df-quickchart {\n",
              "      --bg-color: #E8F0FE;\n",
              "      --fill-color: #1967D2;\n",
              "      --hover-bg-color: #E2EBFA;\n",
              "      --hover-fill-color: #174EA6;\n",
              "      --disabled-fill-color: #AAA;\n",
              "      --disabled-bg-color: #DDD;\n",
              "  }\n",
              "\n",
              "  [theme=dark] .colab-df-quickchart {\n",
              "      --bg-color: #3B4455;\n",
              "      --fill-color: #D2E3FC;\n",
              "      --hover-bg-color: #434B5C;\n",
              "      --hover-fill-color: #FFFFFF;\n",
              "      --disabled-bg-color: #3B4455;\n",
              "      --disabled-fill-color: #666;\n",
              "  }\n",
              "\n",
              "  .colab-df-quickchart {\n",
              "    background-color: var(--bg-color);\n",
              "    border: none;\n",
              "    border-radius: 50%;\n",
              "    cursor: pointer;\n",
              "    display: none;\n",
              "    fill: var(--fill-color);\n",
              "    height: 32px;\n",
              "    padding: 0;\n",
              "    width: 32px;\n",
              "  }\n",
              "\n",
              "  .colab-df-quickchart:hover {\n",
              "    background-color: var(--hover-bg-color);\n",
              "    box-shadow: 0 1px 2px rgba(60, 64, 67, 0.3), 0 1px 3px 1px rgba(60, 64, 67, 0.15);\n",
              "    fill: var(--button-hover-fill-color);\n",
              "  }\n",
              "\n",
              "  .colab-df-quickchart-complete:disabled,\n",
              "  .colab-df-quickchart-complete:disabled:hover {\n",
              "    background-color: var(--disabled-bg-color);\n",
              "    fill: var(--disabled-fill-color);\n",
              "    box-shadow: none;\n",
              "  }\n",
              "\n",
              "  .colab-df-spinner {\n",
              "    border: 2px solid var(--fill-color);\n",
              "    border-color: transparent;\n",
              "    border-bottom-color: var(--fill-color);\n",
              "    animation:\n",
              "      spin 1s steps(1) infinite;\n",
              "  }\n",
              "\n",
              "  @keyframes spin {\n",
              "    0% {\n",
              "      border-color: transparent;\n",
              "      border-bottom-color: var(--fill-color);\n",
              "      border-left-color: var(--fill-color);\n",
              "    }\n",
              "    20% {\n",
              "      border-color: transparent;\n",
              "      border-left-color: var(--fill-color);\n",
              "      border-top-color: var(--fill-color);\n",
              "    }\n",
              "    30% {\n",
              "      border-color: transparent;\n",
              "      border-left-color: var(--fill-color);\n",
              "      border-top-color: var(--fill-color);\n",
              "      border-right-color: var(--fill-color);\n",
              "    }\n",
              "    40% {\n",
              "      border-color: transparent;\n",
              "      border-right-color: var(--fill-color);\n",
              "      border-top-color: var(--fill-color);\n",
              "    }\n",
              "    60% {\n",
              "      border-color: transparent;\n",
              "      border-right-color: var(--fill-color);\n",
              "    }\n",
              "    80% {\n",
              "      border-color: transparent;\n",
              "      border-right-color: var(--fill-color);\n",
              "      border-bottom-color: var(--fill-color);\n",
              "    }\n",
              "    90% {\n",
              "      border-color: transparent;\n",
              "      border-bottom-color: var(--fill-color);\n",
              "    }\n",
              "  }\n",
              "</style>\n",
              "\n",
              "      <script>\n",
              "        async function quickchart(key) {\n",
              "          const quickchartButtonEl =\n",
              "            document.querySelector('#' + key + ' button');\n",
              "          quickchartButtonEl.disabled = true;  // To prevent multiple clicks.\n",
              "          quickchartButtonEl.classList.add('colab-df-spinner');\n",
              "          try {\n",
              "            const charts = await google.colab.kernel.invokeFunction(\n",
              "                'suggestCharts', [key], {});\n",
              "          } catch (error) {\n",
              "            console.error('Error during call to suggestCharts:', error);\n",
              "          }\n",
              "          quickchartButtonEl.classList.remove('colab-df-spinner');\n",
              "          quickchartButtonEl.classList.add('colab-df-quickchart-complete');\n",
              "        }\n",
              "        (() => {\n",
              "          let quickchartButtonEl =\n",
              "            document.querySelector('#df-1d5a2b57-c1b6-43cc-9031-2da9354b2937 button');\n",
              "          quickchartButtonEl.style.display =\n",
              "            google.colab.kernel.accessAllowed ? 'block' : 'none';\n",
              "        })();\n",
              "      </script>\n",
              "    </div>\n",
              "\n",
              "    </div>\n",
              "  </div>\n"
            ],
            "application/vnd.google.colaboratory.intrinsic+json": {
              "type": "dataframe",
              "variable_name": "df",
              "summary": "{\n  \"name\": \"df\",\n  \"rows\": 1938,\n  \"fields\": [\n    {\n      \"column\": \"label\",\n      \"properties\": {\n        \"dtype\": \"category\",\n        \"num_unique_values\": 2,\n        \"samples\": [\n          \"pos\",\n          \"neg\"\n        ],\n        \"semantic_type\": \"\",\n        \"description\": \"\"\n      }\n    },\n    {\n      \"column\": \"review\",\n      \"properties\": {\n        \"dtype\": \"string\",\n        \"num_unique_values\": 1938,\n        \"samples\": [\n          \"eight years after its release , disney has decided to re-release the little mermaid theatrically for 17 days ( and 17 long nights ) only . \\r\\ncoincidentally , it was reintroduced to theaters the same day fox's animated film anastasia was released . \\r\\nyou know disney , they can't deal with the threat of any other studio getting even a small piece of the crust of the kiddie entertainment pie , so when someone else wants to make a little money , they counter with an old \\\" masterpiece \\\" from their vault and , you know what , i went to see this 1989 cartoon rather than the brand new one from fox . \\r\\nlet no one say disney is losing its monopoly on the market . \\r\\nthey still have hotels on boardwalk _and_ park place . \\r\\nbelieve it or not , today , november 25 , 1997 , at 5 : 05 p . m . , i saw the little mermaid for the first time . \\r\\nit took me a few years to get over an aversion to this movie that was caused seven years ago , when i stayed with one of my mom's friends for a couple weeks . \\r\\nthey had a young child who listened to the little mermaid soundtrack constantly and , over that two week period , i heard every song from the movie probably a hundred times . \\r\\nby the time i got back home , i promised myself i'd never see the movie . \\r\\nbut promises are made to be broken , especially when you're looking at a 17-day , limited engagement . \\r\\ndamn those shrewd disney marketers and their mind games . \\r\\nthe little mermaid is based on a hans christian anderson fairy tale , but it's disney-ized , which means lots of talking animals and bursting into song . \\r\\nit also means the heroine is a total babe who shows off cleavage from a seashell bra at all times . \\r\\ni never wanted so much to be a pair of shells . . . \\r\\nthe heroine , of course , is ariel ( voice of jodi benson ) , a 16-year-old mermaid who is going through that rebellious phase . \\r\\nshe skips her concert to explore a wrecked ship and hang out with a seagull that talks like buddy hackett , who tries to orient her to the mysterious world of humans . \\r\\nshe's also dealing with feelings she hasn't had before -- which comes when you get scales in places you didn't use to have them -- about a handsome prince ( no disney movie would be complete without one ) . \\r\\nher father , king triton of the merpeople , strictly forbids such lusting after the ways of the \\\" savage \\\" humans , in a condemnation that reads as a not-so-subtle analogy about old- fashioned parents who forbid interracial dating . \\r\\nwhat's a king to do , though ? \\r\\nthe girl's in love and even total destruction of her little shrine to the human world doesn't deter her . \\r\\nariel saves the prince's life when a hurricane rises up , and just has to meet him . \\r\\nshe makes a deal with ursula , the sea witch ( voice of pat carroll ) . \\r\\nyou know she's evil because she has a huge potbelly and one of the worst asses in cartoon history . \\r\\nshe also has octopus tentacles for feet ( something those dr . scholl's corn pads will not fix ) and offers to help ariel out . \\r\\nshe'll make her a human for three days if ariel will give up her pretty voice ; ariel has three days to make that prince kiss her , or else she becomes a slave to the witch forever . \\r\\nand if she pricks her finger on a sewing machine or eats an evil apple , she'll fall asleep forever . \\r\\nit's a simplistic plot , yes , but the little mermaid was a revolution in the disney world , coming after such lackluster efforts as the black cauldron and oliver and company . \\r\\nit ranks as one of the best disney cartoons , certainly since the '50s . \\r\\nall the elements are there -- memorable songs like \\\" under the sea \\\" and \\\" kiss the girl , \\\" cartoon animals like sebastian and flounder , an evil villain who still has characterization and charm , and a fair amount of humor that caters to adults as well as children . \\r\\nthe little mermaid is worth a big-screen ticket in 1997 , so hurry up , you only have five days left . \\r\\nserving america for more than 1/25th of a century ! \\r\\n\",\n          \"it's been a long time since walt disney has delivered us a classic along the lines of the little mermaid or beauty and the beast . \\r\\nsure , there have been delightful outings like last years hercules . \\r\\nbut nothing entirely groundbreaking . \\r\\nwith the release of the studio's newest feature length film , a remake of edgar rice burrough's creation tarzan , disney has plunged into new waters with both maturity and animation techniques . \\r\\nit's no classic , but this new tarzan represents exactly what a family film should be . \\r\\nthe plot is loyal to the original storyline , as tarzan's parents are forced to abandon their ship which has caught fire , and find shelter in the jungles of africa . \\r\\nbut , they are killed ( offscreen ) by the snarling cheetah sabor , leaving baby tarzan alone and unharmed in his crib . \\r\\nfound by kala ( voiced with effective gentleness by glenn close ) , a kindhearted mother and member of a gorilla pack , tarzan is taken into the primate group and raised as one of their own . \\r\\nwe follow the young boy through the years , as he partakes in various adventures with his loud mouth gorilla friend terk ( a very brash but funny rosie o'donnell ) and clumsy elephant tantor ( wayne knight ) . \\r\\nof course , in any disney film we are given some kind of goofy sidekick or humorous chum for the hero . \\r\\nin tarzan , these characters fill that space rather inconspicuously . \\r\\ngags that were magnified in other family films are kept quite minor here . \\r\\nmost of the characters are amusing without being forced . \\r\\nas tarzan grows to manhood , the suspected antagonist stumbles into the picture . \\r\\nhere , the notorious bad guy is the big game hunter clayton ( brian blessed ) , who's accompanying a hapless professor ( nigel hawthorne ) on an expedition through the jungle . \\r\\nof course , there's the professor's daughter , jane ( nicely vocalized by a cheerful minnie driver ) who will help supply the romantic quotient of the movie . \\r\\nthe thing that blew my socks off about this version of tarzan is the stunning animation . \\r\\ndirectors chris buck and kevin lima have applied a breathtaking 3-d element to the movement of the athletic title character , and the fast-paced editing is absolutely a marvel . \\r\\nas tarzan carries jane through the treetops , narrowly escaping a pack of nasty baboons , he slips and slides like a daredevil snow boarder or star surfer riding the big wave . \\r\\nyour eyes can barely keep up ; it's a fantastic accomplishment . \\r\\nthe subject matter here is also a notch or two above animation average . \\r\\nthere are important questions raised about tarzan's place in the world , and all are handled exceptionally well by the screenwriters . \\r\\nthere is no shred of doubt left to ponder afterward , which is a surprising plus that i wasn't expecting to find here . \\r\\nsuffice to say , this film will have both adults and children thoroughly entertained . \\r\\nthe grown-up tarzan is voiced by tony goldwyn , who made a name for himself as the `big mean jerk' from ghost . \\r\\ngoldwyn is effective playing someone who's not aware of his world's dangers . \\r\\nglenn close is also memorable as his gorilla mother , and lance henriksen ( from tv's millennium ) is terrific as the silverback father unsure of how to accept the presence of a human child . \\r\\nas the movie's villain , there is nothing particularly special or catching about the character of clayton . \\r\\nit helps that brian blessed supplies his voice with game enthusiasm , but he is nothing compared to james woods' hilarious hades from hercules . \\r\\na burley guy with a big gun who just wants to capture the gorillas does not quite constitute for an all-together noticeable screen presence . \\r\\nstill , this is one great thrill-ride that disney has constructed . \\r\\ni never expected rice burrough's work to be transformed so successfully from live action to animation , nor with so much emotional depth . \\r\\nparents , along with all the kiddies , are going to find much to like in tarzan . \\r\\n\"\n        ],\n        \"semantic_type\": \"\",\n        \"description\": \"\"\n      }\n    },\n    {\n      \"column\": \"scores\",\n      \"properties\": {\n        \"dtype\": \"object\",\n        \"semantic_type\": \"\",\n        \"description\": \"\"\n      }\n    },\n    {\n      \"column\": \"comp_score\",\n      \"properties\": {\n        \"dtype\": \"number\",\n        \"std\": 0.8491773392769579,\n        \"min\": -0.9996,\n        \"max\": 0.9999,\n        \"num_unique_values\": 1044,\n        \"samples\": [\n          0.9138,\n          0.9814\n        ],\n        \"semantic_type\": \"\",\n        \"description\": \"\"\n      }\n    },\n    {\n      \"column\": \"comp_score_label\",\n      \"properties\": {\n        \"dtype\": \"category\",\n        \"num_unique_values\": 2,\n        \"samples\": [\n          \"pos\",\n          \"neg\"\n        ],\n        \"semantic_type\": \"\",\n        \"description\": \"\"\n      }\n    }\n  ]\n}"
            }
          },
          "metadata": {},
          "execution_count": 57
        }
      ]
    },
    {
      "cell_type": "markdown",
      "metadata": {
        "id": "v7o4PhBH8TN7"
      },
      "source": [
        "## Perform a comparison analysis between the original `label` and `comp_score`"
      ]
    },
    {
      "cell_type": "markdown",
      "source": [
        "**Comparing the number of pos and neg in label VS comp_score_label**"
      ],
      "metadata": {
        "id": "yNig6i2KcquO"
      }
    },
    {
      "cell_type": "code",
      "source": [
        "df['label'].value_counts()"
      ],
      "metadata": {
        "colab": {
          "base_uri": "https://localhost:8080/",
          "height": 178
        },
        "id": "nn4WCE6pcoMB",
        "outputId": "d376b4c0-380f-4eb5-9e03-458212b27fd4"
      },
      "execution_count": 58,
      "outputs": [
        {
          "output_type": "execute_result",
          "data": {
            "text/plain": [
              "label\n",
              "neg    969\n",
              "pos    969\n",
              "Name: count, dtype: int64"
            ],
            "text/html": [
              "<div>\n",
              "<style scoped>\n",
              "    .dataframe tbody tr th:only-of-type {\n",
              "        vertical-align: middle;\n",
              "    }\n",
              "\n",
              "    .dataframe tbody tr th {\n",
              "        vertical-align: top;\n",
              "    }\n",
              "\n",
              "    .dataframe thead th {\n",
              "        text-align: right;\n",
              "    }\n",
              "</style>\n",
              "<table border=\"1\" class=\"dataframe\">\n",
              "  <thead>\n",
              "    <tr style=\"text-align: right;\">\n",
              "      <th></th>\n",
              "      <th>count</th>\n",
              "    </tr>\n",
              "    <tr>\n",
              "      <th>label</th>\n",
              "      <th></th>\n",
              "    </tr>\n",
              "  </thead>\n",
              "  <tbody>\n",
              "    <tr>\n",
              "      <th>neg</th>\n",
              "      <td>969</td>\n",
              "    </tr>\n",
              "    <tr>\n",
              "      <th>pos</th>\n",
              "      <td>969</td>\n",
              "    </tr>\n",
              "  </tbody>\n",
              "</table>\n",
              "</div><br><label><b>dtype:</b> int64</label>"
            ]
          },
          "metadata": {},
          "execution_count": 58
        }
      ]
    },
    {
      "cell_type": "code",
      "source": [
        "df['comp_score_label'].value_counts()"
      ],
      "metadata": {
        "colab": {
          "base_uri": "https://localhost:8080/",
          "height": 178
        },
        "id": "ZSZV1_rVc39k",
        "outputId": "0b3a5bfe-53c9-4c5e-a653-98a7813aeb6e"
      },
      "execution_count": 59,
      "outputs": [
        {
          "output_type": "execute_result",
          "data": {
            "text/plain": [
              "comp_score_label\n",
              "pos    1347\n",
              "neg     591\n",
              "Name: count, dtype: int64"
            ],
            "text/html": [
              "<div>\n",
              "<style scoped>\n",
              "    .dataframe tbody tr th:only-of-type {\n",
              "        vertical-align: middle;\n",
              "    }\n",
              "\n",
              "    .dataframe tbody tr th {\n",
              "        vertical-align: top;\n",
              "    }\n",
              "\n",
              "    .dataframe thead th {\n",
              "        text-align: right;\n",
              "    }\n",
              "</style>\n",
              "<table border=\"1\" class=\"dataframe\">\n",
              "  <thead>\n",
              "    <tr style=\"text-align: right;\">\n",
              "      <th></th>\n",
              "      <th>count</th>\n",
              "    </tr>\n",
              "    <tr>\n",
              "      <th>comp_score_label</th>\n",
              "      <th></th>\n",
              "    </tr>\n",
              "  </thead>\n",
              "  <tbody>\n",
              "    <tr>\n",
              "      <th>pos</th>\n",
              "      <td>1347</td>\n",
              "    </tr>\n",
              "    <tr>\n",
              "      <th>neg</th>\n",
              "      <td>591</td>\n",
              "    </tr>\n",
              "  </tbody>\n",
              "</table>\n",
              "</div><br><label><b>dtype:</b> int64</label>"
            ]
          },
          "metadata": {},
          "execution_count": 59
        }
      ]
    },
    {
      "cell_type": "markdown",
      "source": [],
      "metadata": {
        "id": "NJLga9MOdKdd"
      }
    },
    {
      "cell_type": "code",
      "source": [
        "from sklearn.metrics import accuracy_score,classification_report,confusion_matrix"
      ],
      "metadata": {
        "id": "DP4rqCLgdK1K"
      },
      "execution_count": 60,
      "outputs": []
    },
    {
      "cell_type": "code",
      "source": [
        "accuracy_score(df['label'],df['comp_score_label'])"
      ],
      "metadata": {
        "colab": {
          "base_uri": "https://localhost:8080/"
        },
        "id": "GP0LsIlodcE_",
        "outputId": "383e84e5-5f0c-4683-8f41-12cb16900a23"
      },
      "execution_count": 61,
      "outputs": [
        {
          "output_type": "execute_result",
          "data": {
            "text/plain": [
              "0.6357069143446853"
            ]
          },
          "metadata": {},
          "execution_count": 61
        }
      ]
    },
    {
      "cell_type": "code",
      "source": [
        "print(classification_report(df['label'],df['comp_score_label']))"
      ],
      "metadata": {
        "colab": {
          "base_uri": "https://localhost:8080/"
        },
        "id": "_RW_fwkrdl0g",
        "outputId": "5782a65d-c7a9-4056-ecd3-bb5f7a11c13c"
      },
      "execution_count": 62,
      "outputs": [
        {
          "output_type": "stream",
          "name": "stdout",
          "text": [
            "              precision    recall  f1-score   support\n",
            "\n",
            "         neg       0.72      0.44      0.55       969\n",
            "         pos       0.60      0.83      0.70       969\n",
            "\n",
            "    accuracy                           0.64      1938\n",
            "   macro avg       0.66      0.64      0.62      1938\n",
            "weighted avg       0.66      0.64      0.62      1938\n",
            "\n"
          ]
        }
      ]
    }
  ],
  "metadata": {
    "kernelspec": {
      "display_name": "Python [conda env:base] *",
      "language": "python",
      "name": "conda-base-py"
    },
    "language_info": {
      "codemirror_mode": {
        "name": "ipython",
        "version": 3
      },
      "file_extension": ".py",
      "mimetype": "text/x-python",
      "name": "python",
      "nbconvert_exporter": "python",
      "pygments_lexer": "ipython3",
      "version": "3.12.7"
    },
    "colab": {
      "provenance": []
    }
  },
  "nbformat": 4,
  "nbformat_minor": 0
}